{
 "cells": [
  {
   "cell_type": "code",
   "execution_count": 1,
   "metadata": {},
   "outputs": [],
   "source": [
    "import os\n",
    "import numpy as np\n",
    "import pandas as pd\n",
    "\n",
    "from sklearn.neighbors import NearestNeighbors"
   ]
  },
  {
   "cell_type": "code",
   "execution_count": 81,
   "metadata": {},
   "outputs": [
    {
     "data": {
      "text/html": [
       "<div>\n",
       "<style scoped>\n",
       "    .dataframe tbody tr th:only-of-type {\n",
       "        vertical-align: middle;\n",
       "    }\n",
       "\n",
       "    .dataframe tbody tr th {\n",
       "        vertical-align: top;\n",
       "    }\n",
       "\n",
       "    .dataframe thead th {\n",
       "        text-align: right;\n",
       "    }\n",
       "</style>\n",
       "<table border=\"1\" class=\"dataframe\">\n",
       "  <thead>\n",
       "    <tr style=\"text-align: right;\">\n",
       "      <th></th>\n",
       "      <th>user_id</th>\n",
       "      <th>pattern_id</th>\n",
       "      <th>fave_date</th>\n",
       "    </tr>\n",
       "  </thead>\n",
       "  <tbody>\n",
       "    <tr>\n",
       "      <th>0</th>\n",
       "      <td>Crocheturlay</td>\n",
       "      <td>720780</td>\n",
       "      <td>2017/02/19 15:08:49 -0500</td>\n",
       "    </tr>\n",
       "    <tr>\n",
       "      <th>1</th>\n",
       "      <td>cozykrisknits</td>\n",
       "      <td>393166</td>\n",
       "      <td>2014/12/25 14:31:01 -0500</td>\n",
       "    </tr>\n",
       "    <tr>\n",
       "      <th>2</th>\n",
       "      <td>cozykrisknits</td>\n",
       "      <td>447781</td>\n",
       "      <td>2014/12/25 14:29:06 -0500</td>\n",
       "    </tr>\n",
       "    <tr>\n",
       "      <th>3</th>\n",
       "      <td>cozykrisknits</td>\n",
       "      <td>117296</td>\n",
       "      <td>2013/01/07 22:42:44 -0500</td>\n",
       "    </tr>\n",
       "    <tr>\n",
       "      <th>4</th>\n",
       "      <td>cozykrisknits</td>\n",
       "      <td>224811</td>\n",
       "      <td>2013/01/07 22:39:07 -0500</td>\n",
       "    </tr>\n",
       "    <tr>\n",
       "      <th>...</th>\n",
       "      <td>...</td>\n",
       "      <td>...</td>\n",
       "      <td>...</td>\n",
       "    </tr>\n",
       "    <tr>\n",
       "      <th>3756709</th>\n",
       "      <td>alchemia</td>\n",
       "      <td>173758</td>\n",
       "      <td>2013/03/28 16:34:16 -0400</td>\n",
       "    </tr>\n",
       "    <tr>\n",
       "      <th>3756710</th>\n",
       "      <td>alchemia</td>\n",
       "      <td>195006</td>\n",
       "      <td>2013/03/28 16:34:07 -0400</td>\n",
       "    </tr>\n",
       "    <tr>\n",
       "      <th>3756711</th>\n",
       "      <td>alchemia</td>\n",
       "      <td>143595</td>\n",
       "      <td>2013/03/28 16:34:02 -0400</td>\n",
       "    </tr>\n",
       "    <tr>\n",
       "      <th>3756712</th>\n",
       "      <td>alchemia</td>\n",
       "      <td>181436</td>\n",
       "      <td>2013/03/28 16:33:52 -0400</td>\n",
       "    </tr>\n",
       "    <tr>\n",
       "      <th>3756713</th>\n",
       "      <td>alchemia</td>\n",
       "      <td>184008</td>\n",
       "      <td>2013/03/28 16:33:47 -0400</td>\n",
       "    </tr>\n",
       "  </tbody>\n",
       "</table>\n",
       "<p>3756714 rows × 3 columns</p>\n",
       "</div>"
      ],
      "text/plain": [
       "               user_id  pattern_id                  fave_date\n",
       "0         Crocheturlay      720780  2017/02/19 15:08:49 -0500\n",
       "1        cozykrisknits      393166  2014/12/25 14:31:01 -0500\n",
       "2        cozykrisknits      447781  2014/12/25 14:29:06 -0500\n",
       "3        cozykrisknits      117296  2013/01/07 22:42:44 -0500\n",
       "4        cozykrisknits      224811  2013/01/07 22:39:07 -0500\n",
       "...                ...         ...                        ...\n",
       "3756709       alchemia      173758  2013/03/28 16:34:16 -0400\n",
       "3756710       alchemia      195006  2013/03/28 16:34:07 -0400\n",
       "3756711       alchemia      143595  2013/03/28 16:34:02 -0400\n",
       "3756712       alchemia      181436  2013/03/28 16:33:52 -0400\n",
       "3756713       alchemia      184008  2013/03/28 16:33:47 -0400\n",
       "\n",
       "[3756714 rows x 3 columns]"
      ]
     },
     "execution_count": 81,
     "metadata": {},
     "output_type": "execute_result"
    }
   ],
   "source": [
    "ratings = pd.read_csv(\"./user_data.csv\", encoding='cp949')\n",
    "ratings"
   ]
  },
  {
   "cell_type": "code",
   "execution_count": 82,
   "metadata": {},
   "outputs": [
    {
     "name": "stdout",
     "output_type": "stream",
     "text": [
      "                             fave_date\n",
      "user_id          pattern_id           \n",
      "A-Bear           5708                2\n",
      "                 13085               2\n",
      "A-Ko-Cloudartowl 165798              2\n",
      "                 188720              2\n",
      "                 293756              2\n",
      "...                                ...\n",
      "curlyredheadgirl 159043              2\n",
      "                 487111              2\n",
      "cushing          48126               2\n",
      "cute2go          395263              2\n",
      "cutevira         725964              2\n",
      "\n",
      "[17751 rows x 1 columns]\n"
     ]
    }
   ],
   "source": [
    "# 좋아요 두개 이상 누른 사용자 \n",
    "much_liker = ratings.groupby(['user_id', 'pattern_id']).count() \n",
    "bool_liker = much_liker['fave_date'] > 1\n",
    "much_liker = much_liker[bool_liker]\n",
    "print(much_liker)"
   ]
  },
  {
   "cell_type": "code",
   "execution_count": 83,
   "metadata": {},
   "outputs": [
    {
     "name": "stdout",
     "output_type": "stream",
     "text": [
      "        user_id  pattern_id                  fave_date\n",
      "3547964  A-Bear        5708  2009/03/05 22:02:47 -0500\n",
      "3547966  A-Bear        5708  2009/03/05 22:00:56 -0500\n"
     ]
    }
   ],
   "source": [
    "# 정말 이런식으로 A-Bear처럼 두개씩 누른 사람들이 있다\n",
    "user = ratings['user_id'] == 'A-Bear' \n",
    "pat = ratings['pattern_id'] == 5708\n",
    "\n",
    "print(ratings[pat & user])"
   ]
  },
  {
   "cell_type": "code",
   "execution_count": 87,
   "metadata": {},
   "outputs": [],
   "source": [
    "# 중복 제거\n",
    "ratings = ratings.drop_duplicates(['user_id', 'pattern_id'], keep='last')"
   ]
  },
  {
   "cell_type": "code",
   "execution_count": 88,
   "metadata": {},
   "outputs": [
    {
     "name": "stdout",
     "output_type": "stream",
     "text": [
      "Empty DataFrame\n",
      "Columns: [fave_date]\n",
      "Index: []\n",
      "        user_id  pattern_id                  fave_date\n",
      "3547966  A-Bear        5708  2009/03/05 22:00:56 -0500\n"
     ]
    }
   ],
   "source": [
    "# A-Bear가 5708을 누른 데이터도 이제 한개뿐\n",
    "user = ratings['user_id'] == 'A-Bear' \n",
    "pat = ratings['pattern_id'] == 5708\n",
    "print(ratings[pat & user])"
   ]
  },
  {
   "cell_type": "code",
   "execution_count": 3,
   "metadata": {},
   "outputs": [
    {
     "name": "stdout",
     "output_type": "stream",
     "text": [
      "user_id\n",
      "A-Bear               293\n",
      "A-Jar-Of-Bees         23\n",
      "A-KN                 615\n",
      "A-Kelli               65\n",
      "A-Ko-Cloudartowl    3699\n",
      "                    ... \n",
      "cvilleknits           38\n",
      "cvitt                 24\n",
      "cvivianay             44\n",
      "cvjunebug            207\n",
      "cvkasdan              16\n",
      "Name: user_id, Length: 17636, dtype: int64\n"
     ]
    }
   ],
   "source": [
    "users = ratings.groupby('user_id')['user_id'].count()\n",
    "print(users)"
   ]
  },
  {
   "cell_type": "code",
   "execution_count": 4,
   "metadata": {},
   "outputs": [
    {
     "name": "stdout",
     "output_type": "stream",
     "text": [
      "pattern_id\n",
      "10        157\n",
      "13         27\n",
      "16        172\n",
      "17        308\n",
      "20        123\n",
      "         ... \n",
      "774662      1\n",
      "774666      1\n",
      "774667      1\n",
      "774670      1\n",
      "774676      1\n",
      "Name: pattern_id, Length: 410633, dtype: int64\n"
     ]
    }
   ],
   "source": [
    "patterns = ratings.groupby('pattern_id')['pattern_id'].count()\n",
    "print(patterns)"
   ]
  },
  {
   "cell_type": "code",
   "execution_count": 5,
   "metadata": {},
   "outputs": [
    {
     "name": "stdout",
     "output_type": "stream",
     "text": [
      "                  count\n",
      "user_id                \n",
      "A-Bear              293\n",
      "A-KN                615\n",
      "A-Ko-Cloudartowl   3699\n",
      "A-L                 192\n",
      "A2Knitzi            280\n",
      "...                 ...\n",
      "cutiepie3000        150\n",
      "cutiepiemommy       107\n",
      "cutikula            226\n",
      "cutloose            458\n",
      "cvjunebug           207\n",
      "\n",
      "[5638 rows x 1 columns]\n"
     ]
    }
   ],
   "source": [
    "# 신뢰할만한 user를 걸러내자.\n",
    "# 어떤 user가 평가한 패턴의 개수가 N개 이상이라면, 이 user는 여러 개의 패턴을 보고 평가한 것으로 볼 수 있다.\n",
    "# 그러므로 이 사용자의 평가는 믿을만하다고 가정한다.\n",
    "N = 100\n",
    "reliable_users = users[users > N]\n",
    "reliable_users = reliable_users.to_frame()\n",
    "# index와, 첫번째 column의 이름이 user_id라 pd.merge 연산이 불가하므로 column name 치환\n",
    "reliable_users.rename(columns={'user_id':'count'}, inplace=True)\n",
    "print(reliable_users)"
   ]
  },
  {
   "cell_type": "code",
   "execution_count": 6,
   "metadata": {},
   "outputs": [],
   "source": [
    "# 위에서 거른 믿을만한 사용자 집단과 rating set의 교집합을 걸러내어,\n",
    "# 믿을만한 사용자 집단이 평가하지 않은 pattern id는 dataset에서 제외한다.\n",
    "merge_ratings = pd.merge(ratings, reliable_users, on=['user_id'], how='inner')"
   ]
  },
  {
   "cell_type": "code",
   "execution_count": 7,
   "metadata": {},
   "outputs": [
    {
     "data": {
      "text/html": [
       "<div>\n",
       "<style scoped>\n",
       "    .dataframe tbody tr th:only-of-type {\n",
       "        vertical-align: middle;\n",
       "    }\n",
       "\n",
       "    .dataframe tbody tr th {\n",
       "        vertical-align: top;\n",
       "    }\n",
       "\n",
       "    .dataframe thead th {\n",
       "        text-align: right;\n",
       "    }\n",
       "</style>\n",
       "<table border=\"1\" class=\"dataframe\">\n",
       "  <thead>\n",
       "    <tr style=\"text-align: right;\">\n",
       "      <th></th>\n",
       "      <th>user_id</th>\n",
       "      <th>pattern_id</th>\n",
       "      <th>fave_date</th>\n",
       "      <th>count</th>\n",
       "    </tr>\n",
       "  </thead>\n",
       "  <tbody>\n",
       "    <tr>\n",
       "      <th>0</th>\n",
       "      <td>Bibicoco</td>\n",
       "      <td>193187</td>\n",
       "      <td>2017/04/29 07:32:06 -0400</td>\n",
       "      <td>111</td>\n",
       "    </tr>\n",
       "    <tr>\n",
       "      <th>1</th>\n",
       "      <td>Bibicoco</td>\n",
       "      <td>277368</td>\n",
       "      <td>2017/04/02 00:48:07 -0400</td>\n",
       "      <td>111</td>\n",
       "    </tr>\n",
       "    <tr>\n",
       "      <th>2</th>\n",
       "      <td>Bibicoco</td>\n",
       "      <td>241913</td>\n",
       "      <td>2016/04/23 23:55:12 -0400</td>\n",
       "      <td>111</td>\n",
       "    </tr>\n",
       "    <tr>\n",
       "      <th>3</th>\n",
       "      <td>Bibicoco</td>\n",
       "      <td>368955</td>\n",
       "      <td>2015/10/12 21:39:27 -0400</td>\n",
       "      <td>111</td>\n",
       "    </tr>\n",
       "    <tr>\n",
       "      <th>4</th>\n",
       "      <td>Bibicoco</td>\n",
       "      <td>547501</td>\n",
       "      <td>2015/10/12 21:35:50 -0400</td>\n",
       "      <td>111</td>\n",
       "    </tr>\n",
       "    <tr>\n",
       "      <th>...</th>\n",
       "      <td>...</td>\n",
       "      <td>...</td>\n",
       "      <td>...</td>\n",
       "      <td>...</td>\n",
       "    </tr>\n",
       "    <tr>\n",
       "      <th>3483196</th>\n",
       "      <td>asmaloy</td>\n",
       "      <td>186328</td>\n",
       "      <td>2011/01/07 07:09:58 -0500</td>\n",
       "      <td>128</td>\n",
       "    </tr>\n",
       "    <tr>\n",
       "      <th>3483197</th>\n",
       "      <td>asmaloy</td>\n",
       "      <td>40292</td>\n",
       "      <td>2011/01/07 06:43:35 -0500</td>\n",
       "      <td>128</td>\n",
       "    </tr>\n",
       "    <tr>\n",
       "      <th>3483198</th>\n",
       "      <td>asmaloy</td>\n",
       "      <td>146846</td>\n",
       "      <td>2011/01/05 07:29:34 -0500</td>\n",
       "      <td>128</td>\n",
       "    </tr>\n",
       "    <tr>\n",
       "      <th>3483199</th>\n",
       "      <td>asmaloy</td>\n",
       "      <td>215288</td>\n",
       "      <td>2011/01/01 13:38:16 -0500</td>\n",
       "      <td>128</td>\n",
       "    </tr>\n",
       "    <tr>\n",
       "      <th>3483200</th>\n",
       "      <td>asmaloy</td>\n",
       "      <td>219580</td>\n",
       "      <td>2010/12/31 06:39:29 -0500</td>\n",
       "      <td>128</td>\n",
       "    </tr>\n",
       "  </tbody>\n",
       "</table>\n",
       "<p>3483201 rows × 4 columns</p>\n",
       "</div>"
      ],
      "text/plain": [
       "          user_id  pattern_id                  fave_date  count\n",
       "0        Bibicoco      193187  2017/04/29 07:32:06 -0400    111\n",
       "1        Bibicoco      277368  2017/04/02 00:48:07 -0400    111\n",
       "2        Bibicoco      241913  2016/04/23 23:55:12 -0400    111\n",
       "3        Bibicoco      368955  2015/10/12 21:39:27 -0400    111\n",
       "4        Bibicoco      547501  2015/10/12 21:35:50 -0400    111\n",
       "...           ...         ...                        ...    ...\n",
       "3483196   asmaloy      186328  2011/01/07 07:09:58 -0500    128\n",
       "3483197   asmaloy       40292  2011/01/07 06:43:35 -0500    128\n",
       "3483198   asmaloy      146846  2011/01/05 07:29:34 -0500    128\n",
       "3483199   asmaloy      215288  2011/01/01 13:38:16 -0500    128\n",
       "3483200   asmaloy      219580  2010/12/31 06:39:29 -0500    128\n",
       "\n",
       "[3483201 rows x 4 columns]"
      ]
     },
     "execution_count": 7,
     "metadata": {},
     "output_type": "execute_result"
    }
   ],
   "source": [
    "merge_ratings"
   ]
  },
  {
   "cell_type": "code",
   "execution_count": 8,
   "metadata": {},
   "outputs": [
    {
     "name": "stdout",
     "output_type": "stream",
     "text": [
      "user_id\n",
      "A-Bear               293\n",
      "A-KN                 615\n",
      "A-Ko-Cloudartowl    3699\n",
      "A-L                  192\n",
      "A2Knitzi             280\n",
      "                    ... \n",
      "cutiepie3000         150\n",
      "cutiepiemommy        107\n",
      "cutikula             226\n",
      "cutloose             458\n",
      "cvjunebug            207\n",
      "Name: user_id, Length: 5638, dtype: int64\n"
     ]
    }
   ],
   "source": [
    "# 교집합 연산이 잘 되었는지 확인을 위한 작업\n",
    "# 교집합 연산 전 reliable users 의 row 길이와, \n",
    "# 현재 merge된 ratings에서 user id끼리 groupby한 연산의 결과가 같으므로, \n",
    "# 이는 옳게 교집합 연산이 되었다\n",
    "users = merge_ratings.groupby('user_id')['user_id'].count()\n",
    "print(users)"
   ]
  },
  {
   "cell_type": "code",
   "execution_count": 9,
   "metadata": {},
   "outputs": [
    {
     "name": "stdout",
     "output_type": "stream",
     "text": [
      "pattern_id\n",
      "10        143\n",
      "13         25\n",
      "16        149\n",
      "17        286\n",
      "20        109\n",
      "         ... \n",
      "774662      1\n",
      "774666      1\n",
      "774667      1\n",
      "774670      1\n",
      "774676      1\n",
      "Name: pattern_id, Length: 402067, dtype: int64\n"
     ]
    }
   ],
   "source": [
    "patterns = merge_ratings.groupby('pattern_id')['pattern_id'].count()\n",
    "print(patterns)\n",
    "# 그러나, 사람마다 취향이 너무 달라서 제외된 패턴임에도 row가 410000개이다. 여전히 너무 많아 MF를 실행할 수 없다."
   ]
  },
  {
   "cell_type": "code",
   "execution_count": 10,
   "metadata": {},
   "outputs": [
    {
     "name": "stdout",
     "output_type": "stream",
     "text": [
      "            count\n",
      "pattern_id       \n",
      "10            143\n",
      "16            149\n",
      "17            286\n",
      "20            109\n",
      "29            587\n",
      "...           ...\n",
      "761594        117\n",
      "763023        116\n",
      "763263        112\n",
      "763264        130\n",
      "766149        107\n",
      "\n",
      "[3901 rows x 1 columns]\n"
     ]
    }
   ],
   "source": [
    "# 이젠 신뢰할만한 pattern을 걸러내자.\n",
    "# 어떤 pattern이 평가된 횟수가 M개 이상이라면, 이 패턴은 많은 사용자에게 평가받았다.\n",
    "# 그러므로 이 패턴은 보편적 취향에 부합하며, 다른 이에게도 추천할만하다.\n",
    "M = 100\n",
    "reliable_patterns = patterns[patterns > M]\n",
    "reliable_patterns = reliable_patterns.to_frame()\n",
    "reliable_patterns.rename(columns={'pattern_id':'count'}, inplace=True)\n",
    "print(reliable_patterns)"
   ]
  },
  {
   "cell_type": "code",
   "execution_count": 11,
   "metadata": {},
   "outputs": [],
   "source": [
    "# 위에서 거른 믿을만한 사용자 집단과 rating set의 교집합을 걸러내어,\n",
    "# 믿을만한 사용자 집단이 평가하지 않은 pattern id는 dataset에서 제외한다.\n",
    "s_merge_ratings = pd.merge(merge_ratings, reliable_patterns, on=['pattern_id'], how='inner')\n",
    "# s_merge_ratings = s_merge_ratings.drop(columns = ['fave_date','count_x', 'count_y'])\n",
    "s_merge_ratings = s_merge_ratings.drop(columns = ['count_x', 'count_y'])"
   ]
  },
  {
   "cell_type": "code",
   "execution_count": 12,
   "metadata": {},
   "outputs": [
    {
     "name": "stdout",
     "output_type": "stream",
     "text": [
      "user_id\n",
      "A-Bear               67\n",
      "A-KN                 99\n",
      "A-Ko-Cloudartowl    457\n",
      "A-L                  76\n",
      "A2Knitzi             86\n",
      "                   ... \n",
      "cutiepie3000          6\n",
      "cutiepiemommy         9\n",
      "cutikula             43\n",
      "cutloose             59\n",
      "cvjunebug            11\n",
      "Name: user_id, Length: 5630, dtype: int64\n"
     ]
    }
   ],
   "source": [
    "# user는 줄지 않았다\n",
    "users = s_merge_ratings.groupby('user_id')['user_id'].count()\n",
    "print(users)"
   ]
  },
  {
   "cell_type": "code",
   "execution_count": 13,
   "metadata": {},
   "outputs": [
    {
     "name": "stdout",
     "output_type": "stream",
     "text": [
      "pattern_id\n",
      "10        143\n",
      "16        149\n",
      "17        286\n",
      "20        109\n",
      "29        587\n",
      "         ... \n",
      "761594    117\n",
      "763023    116\n",
      "763263    112\n",
      "763264    130\n",
      "766149    107\n",
      "Name: pattern_id, Length: 3901, dtype: int64\n"
     ]
    }
   ],
   "source": [
    "# 교집합 연산이 잘 되었는지 확인을 위한 작업\n",
    "# 교집합 연산 전 reliable patterns 의 row 길이와, \n",
    "# 현재 merge된 ratings에서 pattern id끼리 groupby한 연산의 결과가 같으므로, \n",
    "# 이는 옳게 교집합 연산이 되었다\n",
    "patterns = s_merge_ratings.groupby('pattern_id')['pattern_id'].count()\n",
    "print(patterns)"
   ]
  },
  {
   "cell_type": "code",
   "execution_count": 14,
   "metadata": {},
   "outputs": [
    {
     "name": "stdout",
     "output_type": "stream",
     "text": [
      "                 user_id  pattern_id                  fave_date\n",
      "0               Bibicoco      277368  2017/04/02 00:48:07 -0400\n",
      "1         churncreeklady      277368  2014/05/15 13:10:56 -0400\n",
      "2           anneliesbaes      277368  2014/08/15 04:08:53 -0400\n",
      "3       ConstanceTricote      277368  2012/10/28 11:30:45 -0400\n",
      "4                 Ann357      277368  2015/07/22 16:00:25 -0400\n",
      "...                  ...         ...                        ...\n",
      "741623         Brewst502      164869  2010/11/25 18:06:12 -0500\n",
      "741624   charliehrtsmatt      164869  2012/05/01 23:47:49 -0400\n",
      "741625        ArgyleLove      164869  2016/07/17 17:21:11 -0400\n",
      "741626        badpallone      164869  2010/10/11 09:18:01 -0400\n",
      "741627            aerynn      164869  2011/01/22 22:39:15 -0500\n",
      "\n",
      "[741628 rows x 3 columns]\n"
     ]
    }
   ],
   "source": [
    "print(s_merge_ratings)"
   ]
  },
  {
   "cell_type": "code",
   "execution_count": 22,
   "metadata": {},
   "outputs": [
    {
     "name": "stdout",
     "output_type": "stream",
     "text": [
      "                             fave_date\n",
      "user_id          pattern_id           \n",
      "A-Ko-Cloudartowl 188720              2\n",
      "                 293756              2\n",
      "                 342404              2\n",
      "                 395171              2\n",
      "A9920            18179               2\n",
      "...                                ...\n",
      "cupoftea         144941              2\n",
      "curlyredheadgirl 4124                2\n",
      "                 103626              2\n",
      "                 150257              2\n",
      "cute2go          395263              2\n",
      "\n",
      "[4565 rows x 1 columns]\n"
     ]
    }
   ],
   "source": [
    "s = s_merge_ratings.groupby(['user_id', 'pattern_id']).count() # 성별과 요일에 따른 tip의 평균으로 통계량을 계산\n",
    "over = s['fave_date'] > 1\n",
    "new_s = s[over]\n",
    "# s.reset_index(inplace=True)\n",
    "print(new_s)"
   ]
  },
  {
   "cell_type": "code",
   "execution_count": 16,
   "metadata": {},
   "outputs": [
    {
     "name": "stdout",
     "output_type": "stream",
     "text": [
      "          user_id  pattern_id  fave_date\n",
      "0          A-Bear          58          1\n",
      "1          A-Bear         190          1\n",
      "2          A-Bear         278          1\n",
      "3          A-Bear        1379          1\n",
      "4          A-Bear        1549          1\n",
      "...           ...         ...        ...\n",
      "737030  cvjunebug       17060          1\n",
      "737031  cvjunebug       37845          1\n",
      "737032  cvjunebug       46656          1\n",
      "737033  cvjunebug       56417          1\n",
      "737034  cvjunebug       57230          1\n",
      "\n",
      "[737035 rows x 3 columns]\n"
     ]
    }
   ],
   "source": [
    "print(s)"
   ]
  },
  {
   "cell_type": "code",
   "execution_count": 17,
   "metadata": {},
   "outputs": [
    {
     "ename": "ValueError",
     "evalue": "Index contains duplicate entries, cannot reshape",
     "output_type": "error",
     "traceback": [
      "\u001b[0;31m---------------------------------------------------------------------------\u001b[0m",
      "\u001b[0;31mValueError\u001b[0m                                Traceback (most recent call last)",
      "\u001b[0;32m<ipython-input-17-82473a14b2f0>\u001b[0m in \u001b[0;36m<module>\u001b[0;34m\u001b[0m\n\u001b[1;32m      1\u001b[0m \u001b[0;31m# s_merge_ratings['values'] = 1\u001b[0m\u001b[0;34m\u001b[0m\u001b[0;34m\u001b[0m\u001b[0;34m\u001b[0m\u001b[0m\n\u001b[1;32m      2\u001b[0m \u001b[0;34m\u001b[0m\u001b[0m\n\u001b[0;32m----> 3\u001b[0;31m \u001b[0ms_merge_ratings\u001b[0m \u001b[0;34m=\u001b[0m \u001b[0ms_merge_ratings\u001b[0m\u001b[0;34m.\u001b[0m\u001b[0mpivot\u001b[0m\u001b[0;34m(\u001b[0m \u001b[0mindex\u001b[0m\u001b[0;34m=\u001b[0m\u001b[0;34m'user_id'\u001b[0m\u001b[0;34m,\u001b[0m \u001b[0mcolumns\u001b[0m\u001b[0;34m=\u001b[0m\u001b[0;34m'pattern_id'\u001b[0m\u001b[0;34m)\u001b[0m\u001b[0;34m\u001b[0m\u001b[0;34m\u001b[0m\u001b[0m\n\u001b[0m\u001b[1;32m      4\u001b[0m \u001b[0;34m\u001b[0m\u001b[0m\n\u001b[1;32m      5\u001b[0m \u001b[0mprint\u001b[0m\u001b[0;34m(\u001b[0m\u001b[0ms_merge_ratings\u001b[0m\u001b[0;34m)\u001b[0m\u001b[0;34m\u001b[0m\u001b[0;34m\u001b[0m\u001b[0m\n",
      "\u001b[0;32m/opt/anaconda3/lib/python3.7/site-packages/pandas/core/frame.py\u001b[0m in \u001b[0;36mpivot\u001b[0;34m(self, index, columns, values)\u001b[0m\n\u001b[1;32m   7791\u001b[0m         \u001b[0;32mfrom\u001b[0m \u001b[0mpandas\u001b[0m\u001b[0;34m.\u001b[0m\u001b[0mcore\u001b[0m\u001b[0;34m.\u001b[0m\u001b[0mreshape\u001b[0m\u001b[0;34m.\u001b[0m\u001b[0mpivot\u001b[0m \u001b[0;32mimport\u001b[0m \u001b[0mpivot\u001b[0m\u001b[0;34m\u001b[0m\u001b[0;34m\u001b[0m\u001b[0m\n\u001b[1;32m   7792\u001b[0m \u001b[0;34m\u001b[0m\u001b[0m\n\u001b[0;32m-> 7793\u001b[0;31m         \u001b[0;32mreturn\u001b[0m \u001b[0mpivot\u001b[0m\u001b[0;34m(\u001b[0m\u001b[0mself\u001b[0m\u001b[0;34m,\u001b[0m \u001b[0mindex\u001b[0m\u001b[0;34m=\u001b[0m\u001b[0mindex\u001b[0m\u001b[0;34m,\u001b[0m \u001b[0mcolumns\u001b[0m\u001b[0;34m=\u001b[0m\u001b[0mcolumns\u001b[0m\u001b[0;34m,\u001b[0m \u001b[0mvalues\u001b[0m\u001b[0;34m=\u001b[0m\u001b[0mvalues\u001b[0m\u001b[0;34m)\u001b[0m\u001b[0;34m\u001b[0m\u001b[0;34m\u001b[0m\u001b[0m\n\u001b[0m\u001b[1;32m   7794\u001b[0m \u001b[0;34m\u001b[0m\u001b[0m\n\u001b[1;32m   7795\u001b[0m     _shared_docs[\n",
      "\u001b[0;32m/opt/anaconda3/lib/python3.7/site-packages/pandas/core/reshape/pivot.py\u001b[0m in \u001b[0;36mpivot\u001b[0;34m(data, index, columns, values)\u001b[0m\n\u001b[1;32m    515\u001b[0m         \u001b[0;32melse\u001b[0m\u001b[0;34m:\u001b[0m\u001b[0;34m\u001b[0m\u001b[0;34m\u001b[0m\u001b[0m\n\u001b[1;32m    516\u001b[0m             \u001b[0mindexed\u001b[0m \u001b[0;34m=\u001b[0m \u001b[0mdata\u001b[0m\u001b[0;34m.\u001b[0m\u001b[0m_constructor_sliced\u001b[0m\u001b[0;34m(\u001b[0m\u001b[0mdata\u001b[0m\u001b[0;34m[\u001b[0m\u001b[0mvalues\u001b[0m\u001b[0;34m]\u001b[0m\u001b[0;34m.\u001b[0m\u001b[0m_values\u001b[0m\u001b[0;34m,\u001b[0m \u001b[0mindex\u001b[0m\u001b[0;34m=\u001b[0m\u001b[0mmultiindex\u001b[0m\u001b[0;34m)\u001b[0m\u001b[0;34m\u001b[0m\u001b[0;34m\u001b[0m\u001b[0m\n\u001b[0;32m--> 517\u001b[0;31m     \u001b[0;32mreturn\u001b[0m \u001b[0mindexed\u001b[0m\u001b[0;34m.\u001b[0m\u001b[0munstack\u001b[0m\u001b[0;34m(\u001b[0m\u001b[0mcolumns_listlike\u001b[0m\u001b[0;34m)\u001b[0m\u001b[0;34m\u001b[0m\u001b[0;34m\u001b[0m\u001b[0m\n\u001b[0m\u001b[1;32m    518\u001b[0m \u001b[0;34m\u001b[0m\u001b[0m\n\u001b[1;32m    519\u001b[0m \u001b[0;34m\u001b[0m\u001b[0m\n",
      "\u001b[0;32m/opt/anaconda3/lib/python3.7/site-packages/pandas/core/frame.py\u001b[0m in \u001b[0;36munstack\u001b[0;34m(self, level, fill_value)\u001b[0m\n\u001b[1;32m   8322\u001b[0m         \u001b[0;32mfrom\u001b[0m \u001b[0mpandas\u001b[0m\u001b[0;34m.\u001b[0m\u001b[0mcore\u001b[0m\u001b[0;34m.\u001b[0m\u001b[0mreshape\u001b[0m\u001b[0;34m.\u001b[0m\u001b[0mreshape\u001b[0m \u001b[0;32mimport\u001b[0m \u001b[0munstack\u001b[0m\u001b[0;34m\u001b[0m\u001b[0;34m\u001b[0m\u001b[0m\n\u001b[1;32m   8323\u001b[0m \u001b[0;34m\u001b[0m\u001b[0m\n\u001b[0;32m-> 8324\u001b[0;31m         \u001b[0mresult\u001b[0m \u001b[0;34m=\u001b[0m \u001b[0munstack\u001b[0m\u001b[0;34m(\u001b[0m\u001b[0mself\u001b[0m\u001b[0;34m,\u001b[0m \u001b[0mlevel\u001b[0m\u001b[0;34m,\u001b[0m \u001b[0mfill_value\u001b[0m\u001b[0;34m)\u001b[0m\u001b[0;34m\u001b[0m\u001b[0;34m\u001b[0m\u001b[0m\n\u001b[0m\u001b[1;32m   8325\u001b[0m \u001b[0;34m\u001b[0m\u001b[0m\n\u001b[1;32m   8326\u001b[0m         \u001b[0;32mreturn\u001b[0m \u001b[0mresult\u001b[0m\u001b[0;34m.\u001b[0m\u001b[0m__finalize__\u001b[0m\u001b[0;34m(\u001b[0m\u001b[0mself\u001b[0m\u001b[0;34m,\u001b[0m \u001b[0mmethod\u001b[0m\u001b[0;34m=\u001b[0m\u001b[0;34m\"unstack\"\u001b[0m\u001b[0;34m)\u001b[0m\u001b[0;34m\u001b[0m\u001b[0;34m\u001b[0m\u001b[0m\n",
      "\u001b[0;32m/opt/anaconda3/lib/python3.7/site-packages/pandas/core/reshape/reshape.py\u001b[0m in \u001b[0;36munstack\u001b[0;34m(obj, level, fill_value)\u001b[0m\n\u001b[1;32m    445\u001b[0m     \u001b[0;32mif\u001b[0m \u001b[0misinstance\u001b[0m\u001b[0;34m(\u001b[0m\u001b[0mobj\u001b[0m\u001b[0;34m,\u001b[0m \u001b[0mDataFrame\u001b[0m\u001b[0;34m)\u001b[0m\u001b[0;34m:\u001b[0m\u001b[0;34m\u001b[0m\u001b[0;34m\u001b[0m\u001b[0m\n\u001b[1;32m    446\u001b[0m         \u001b[0;32mif\u001b[0m \u001b[0misinstance\u001b[0m\u001b[0;34m(\u001b[0m\u001b[0mobj\u001b[0m\u001b[0;34m.\u001b[0m\u001b[0mindex\u001b[0m\u001b[0;34m,\u001b[0m \u001b[0mMultiIndex\u001b[0m\u001b[0;34m)\u001b[0m\u001b[0;34m:\u001b[0m\u001b[0;34m\u001b[0m\u001b[0;34m\u001b[0m\u001b[0m\n\u001b[0;32m--> 447\u001b[0;31m             \u001b[0;32mreturn\u001b[0m \u001b[0m_unstack_frame\u001b[0m\u001b[0;34m(\u001b[0m\u001b[0mobj\u001b[0m\u001b[0;34m,\u001b[0m \u001b[0mlevel\u001b[0m\u001b[0;34m,\u001b[0m \u001b[0mfill_value\u001b[0m\u001b[0;34m=\u001b[0m\u001b[0mfill_value\u001b[0m\u001b[0;34m)\u001b[0m\u001b[0;34m\u001b[0m\u001b[0;34m\u001b[0m\u001b[0m\n\u001b[0m\u001b[1;32m    448\u001b[0m         \u001b[0;32melse\u001b[0m\u001b[0;34m:\u001b[0m\u001b[0;34m\u001b[0m\u001b[0;34m\u001b[0m\u001b[0m\n\u001b[1;32m    449\u001b[0m             \u001b[0;32mreturn\u001b[0m \u001b[0mobj\u001b[0m\u001b[0;34m.\u001b[0m\u001b[0mT\u001b[0m\u001b[0;34m.\u001b[0m\u001b[0mstack\u001b[0m\u001b[0;34m(\u001b[0m\u001b[0mdropna\u001b[0m\u001b[0;34m=\u001b[0m\u001b[0;32mFalse\u001b[0m\u001b[0;34m)\u001b[0m\u001b[0;34m\u001b[0m\u001b[0;34m\u001b[0m\u001b[0m\n",
      "\u001b[0;32m/opt/anaconda3/lib/python3.7/site-packages/pandas/core/reshape/reshape.py\u001b[0m in \u001b[0;36m_unstack_frame\u001b[0;34m(obj, level, fill_value)\u001b[0m\n\u001b[1;32m    472\u001b[0m         \u001b[0;32mreturn\u001b[0m \u001b[0mobj\u001b[0m\u001b[0;34m.\u001b[0m\u001b[0m_constructor\u001b[0m\u001b[0;34m(\u001b[0m\u001b[0mmgr\u001b[0m\u001b[0;34m)\u001b[0m\u001b[0;34m\u001b[0m\u001b[0;34m\u001b[0m\u001b[0m\n\u001b[1;32m    473\u001b[0m     \u001b[0;32melse\u001b[0m\u001b[0;34m:\u001b[0m\u001b[0;34m\u001b[0m\u001b[0;34m\u001b[0m\u001b[0m\n\u001b[0;32m--> 474\u001b[0;31m         \u001b[0munstacker\u001b[0m \u001b[0;34m=\u001b[0m \u001b[0m_Unstacker\u001b[0m\u001b[0;34m(\u001b[0m\u001b[0mobj\u001b[0m\u001b[0;34m.\u001b[0m\u001b[0mindex\u001b[0m\u001b[0;34m,\u001b[0m \u001b[0mlevel\u001b[0m\u001b[0;34m=\u001b[0m\u001b[0mlevel\u001b[0m\u001b[0;34m,\u001b[0m \u001b[0mconstructor\u001b[0m\u001b[0;34m=\u001b[0m\u001b[0mobj\u001b[0m\u001b[0;34m.\u001b[0m\u001b[0m_constructor\u001b[0m\u001b[0;34m)\u001b[0m\u001b[0;34m\u001b[0m\u001b[0;34m\u001b[0m\u001b[0m\n\u001b[0m\u001b[1;32m    475\u001b[0m         return unstacker.get_result(\n\u001b[1;32m    476\u001b[0m             \u001b[0mobj\u001b[0m\u001b[0;34m.\u001b[0m\u001b[0m_values\u001b[0m\u001b[0;34m,\u001b[0m \u001b[0mvalue_columns\u001b[0m\u001b[0;34m=\u001b[0m\u001b[0mobj\u001b[0m\u001b[0;34m.\u001b[0m\u001b[0mcolumns\u001b[0m\u001b[0;34m,\u001b[0m \u001b[0mfill_value\u001b[0m\u001b[0;34m=\u001b[0m\u001b[0mfill_value\u001b[0m\u001b[0;34m\u001b[0m\u001b[0;34m\u001b[0m\u001b[0m\n",
      "\u001b[0;32m/opt/anaconda3/lib/python3.7/site-packages/pandas/core/reshape/reshape.py\u001b[0m in \u001b[0;36m__init__\u001b[0;34m(self, index, level, constructor)\u001b[0m\n\u001b[1;32m    131\u001b[0m             \u001b[0;32mraise\u001b[0m \u001b[0mValueError\u001b[0m\u001b[0;34m(\u001b[0m\u001b[0;34m\"Unstacked DataFrame is too big, causing int32 overflow\"\u001b[0m\u001b[0;34m)\u001b[0m\u001b[0;34m\u001b[0m\u001b[0;34m\u001b[0m\u001b[0m\n\u001b[1;32m    132\u001b[0m \u001b[0;34m\u001b[0m\u001b[0m\n\u001b[0;32m--> 133\u001b[0;31m         \u001b[0mself\u001b[0m\u001b[0;34m.\u001b[0m\u001b[0m_make_selectors\u001b[0m\u001b[0;34m(\u001b[0m\u001b[0;34m)\u001b[0m\u001b[0;34m\u001b[0m\u001b[0;34m\u001b[0m\u001b[0m\n\u001b[0m\u001b[1;32m    134\u001b[0m \u001b[0;34m\u001b[0m\u001b[0m\n\u001b[1;32m    135\u001b[0m     \u001b[0;34m@\u001b[0m\u001b[0mcache_readonly\u001b[0m\u001b[0;34m\u001b[0m\u001b[0;34m\u001b[0m\u001b[0m\n",
      "\u001b[0;32m/opt/anaconda3/lib/python3.7/site-packages/pandas/core/reshape/reshape.py\u001b[0m in \u001b[0;36m_make_selectors\u001b[0;34m(self)\u001b[0m\n\u001b[1;32m    183\u001b[0m \u001b[0;34m\u001b[0m\u001b[0m\n\u001b[1;32m    184\u001b[0m         \u001b[0;32mif\u001b[0m \u001b[0mmask\u001b[0m\u001b[0;34m.\u001b[0m\u001b[0msum\u001b[0m\u001b[0;34m(\u001b[0m\u001b[0;34m)\u001b[0m \u001b[0;34m<\u001b[0m \u001b[0mlen\u001b[0m\u001b[0;34m(\u001b[0m\u001b[0mself\u001b[0m\u001b[0;34m.\u001b[0m\u001b[0mindex\u001b[0m\u001b[0;34m)\u001b[0m\u001b[0;34m:\u001b[0m\u001b[0;34m\u001b[0m\u001b[0;34m\u001b[0m\u001b[0m\n\u001b[0;32m--> 185\u001b[0;31m             \u001b[0;32mraise\u001b[0m \u001b[0mValueError\u001b[0m\u001b[0;34m(\u001b[0m\u001b[0;34m\"Index contains duplicate entries, cannot reshape\"\u001b[0m\u001b[0;34m)\u001b[0m\u001b[0;34m\u001b[0m\u001b[0;34m\u001b[0m\u001b[0m\n\u001b[0m\u001b[1;32m    186\u001b[0m \u001b[0;34m\u001b[0m\u001b[0m\n\u001b[1;32m    187\u001b[0m         \u001b[0mself\u001b[0m\u001b[0;34m.\u001b[0m\u001b[0mgroup_index\u001b[0m \u001b[0;34m=\u001b[0m \u001b[0mcomp_index\u001b[0m\u001b[0;34m\u001b[0m\u001b[0;34m\u001b[0m\u001b[0m\n",
      "\u001b[0;31mValueError\u001b[0m: Index contains duplicate entries, cannot reshape"
     ]
    }
   ],
   "source": [
    "# s_merge_ratings['values'] = 1\n",
    "\n",
    "s_merge_ratings = s_merge_ratings.pivot( index='user_id', columns='pattern_id')\n",
    "\n",
    "print(s_merge_ratings)"
   ]
  },
  {
   "cell_type": "code",
   "execution_count": 140,
   "metadata": {},
   "outputs": [
    {
     "data": {
      "text/plain": [
       "user_id                  churncreeklady\n",
       "pattern_id                       277368\n",
       "fave_date     2014/05/15 13:10:56 -0400\n",
       "Name: 1, dtype: object"
      ]
     },
     "execution_count": 140,
     "metadata": {},
     "output_type": "execute_result"
    }
   ],
   "source": [
    "s_merge_ratings.loc[1]"
   ]
  },
  {
   "cell_type": "code",
   "execution_count": null,
   "metadata": {},
   "outputs": [],
   "source": [
    "s_merge_ratings.head(3)"
   ]
  },
  {
   "cell_type": "code",
   "execution_count": 90,
   "metadata": {},
   "outputs": [
    {
     "data": {
      "text/html": [
       "<div>\n",
       "<style scoped>\n",
       "    .dataframe tbody tr th:only-of-type {\n",
       "        vertical-align: middle;\n",
       "    }\n",
       "\n",
       "    .dataframe tbody tr th {\n",
       "        vertical-align: top;\n",
       "    }\n",
       "\n",
       "    .dataframe thead th {\n",
       "        text-align: right;\n",
       "    }\n",
       "</style>\n",
       "<table border=\"1\" class=\"dataframe\">\n",
       "  <thead>\n",
       "    <tr style=\"text-align: right;\">\n",
       "      <th></th>\n",
       "      <th>user_id</th>\n",
       "      <th>pattern_id</th>\n",
       "      <th>fave_date</th>\n",
       "      <th>count</th>\n",
       "    </tr>\n",
       "  </thead>\n",
       "  <tbody>\n",
       "    <tr>\n",
       "      <th>0</th>\n",
       "      <td>Bibicoco</td>\n",
       "      <td>193187</td>\n",
       "      <td>2017/04/29 07:32:06 -0400</td>\n",
       "      <td>111</td>\n",
       "    </tr>\n",
       "    <tr>\n",
       "      <th>1</th>\n",
       "      <td>Bibicoco</td>\n",
       "      <td>277368</td>\n",
       "      <td>2017/04/02 00:48:07 -0400</td>\n",
       "      <td>111</td>\n",
       "    </tr>\n",
       "    <tr>\n",
       "      <th>2</th>\n",
       "      <td>Bibicoco</td>\n",
       "      <td>241913</td>\n",
       "      <td>2016/04/23 23:55:12 -0400</td>\n",
       "      <td>111</td>\n",
       "    </tr>\n",
       "    <tr>\n",
       "      <th>3</th>\n",
       "      <td>Bibicoco</td>\n",
       "      <td>368955</td>\n",
       "      <td>2015/10/12 21:39:27 -0400</td>\n",
       "      <td>111</td>\n",
       "    </tr>\n",
       "    <tr>\n",
       "      <th>4</th>\n",
       "      <td>Bibicoco</td>\n",
       "      <td>547501</td>\n",
       "      <td>2015/10/12 21:35:50 -0400</td>\n",
       "      <td>111</td>\n",
       "    </tr>\n",
       "    <tr>\n",
       "      <th>...</th>\n",
       "      <td>...</td>\n",
       "      <td>...</td>\n",
       "      <td>...</td>\n",
       "      <td>...</td>\n",
       "    </tr>\n",
       "    <tr>\n",
       "      <th>3483196</th>\n",
       "      <td>asmaloy</td>\n",
       "      <td>186328</td>\n",
       "      <td>2011/01/07 07:09:58 -0500</td>\n",
       "      <td>128</td>\n",
       "    </tr>\n",
       "    <tr>\n",
       "      <th>3483197</th>\n",
       "      <td>asmaloy</td>\n",
       "      <td>40292</td>\n",
       "      <td>2011/01/07 06:43:35 -0500</td>\n",
       "      <td>128</td>\n",
       "    </tr>\n",
       "    <tr>\n",
       "      <th>3483198</th>\n",
       "      <td>asmaloy</td>\n",
       "      <td>146846</td>\n",
       "      <td>2011/01/05 07:29:34 -0500</td>\n",
       "      <td>128</td>\n",
       "    </tr>\n",
       "    <tr>\n",
       "      <th>3483199</th>\n",
       "      <td>asmaloy</td>\n",
       "      <td>215288</td>\n",
       "      <td>2011/01/01 13:38:16 -0500</td>\n",
       "      <td>128</td>\n",
       "    </tr>\n",
       "    <tr>\n",
       "      <th>3483200</th>\n",
       "      <td>asmaloy</td>\n",
       "      <td>219580</td>\n",
       "      <td>2010/12/31 06:39:29 -0500</td>\n",
       "      <td>128</td>\n",
       "    </tr>\n",
       "  </tbody>\n",
       "</table>\n",
       "<p>3483201 rows × 4 columns</p>\n",
       "</div>"
      ],
      "text/plain": [
       "          user_id  pattern_id                  fave_date  count\n",
       "0        Bibicoco      193187  2017/04/29 07:32:06 -0400    111\n",
       "1        Bibicoco      277368  2017/04/02 00:48:07 -0400    111\n",
       "2        Bibicoco      241913  2016/04/23 23:55:12 -0400    111\n",
       "3        Bibicoco      368955  2015/10/12 21:39:27 -0400    111\n",
       "4        Bibicoco      547501  2015/10/12 21:35:50 -0400    111\n",
       "...           ...         ...                        ...    ...\n",
       "3483196   asmaloy      186328  2011/01/07 07:09:58 -0500    128\n",
       "3483197   asmaloy       40292  2011/01/07 06:43:35 -0500    128\n",
       "3483198   asmaloy      146846  2011/01/05 07:29:34 -0500    128\n",
       "3483199   asmaloy      215288  2011/01/01 13:38:16 -0500    128\n",
       "3483200   asmaloy      219580  2010/12/31 06:39:29 -0500    128\n",
       "\n",
       "[3483201 rows x 4 columns]"
      ]
     },
     "execution_count": 90,
     "metadata": {},
     "output_type": "execute_result"
    }
   ],
   "source": [
    "merge_ratings"
   ]
  },
  {
   "cell_type": "code",
   "execution_count": 40,
   "metadata": {},
   "outputs": [
    {
     "name": "stdout",
     "output_type": "stream",
     "text": [
      "실제 행렬:\n",
      " [[ 5.  5. nan  1.  4.  5. nan  5.  5.  4.]\n",
      " [ 4.  5. nan  4.  4. nan nan  4.  3. nan]\n",
      " [nan nan  2.  2.  1.  4.  4.  3.  3. nan]\n",
      " [ 3. nan  1.  1. nan  1.  1.  5.  5.  1.]\n",
      " [ 2.  4.  3.  5.  5.  5.  2.  1.  4. nan]\n",
      " [ 1.  3.  4.  4. nan  5.  2.  3.  1. nan]\n",
      " [nan  2.  1.  3. nan  3.  4.  4. nan  3.]\n",
      " [ 2. nan  2.  4.  5. nan  1.  2.  2.  4.]\n",
      " [nan  4.  3. nan  1.  4. nan  1.  4.  4.]\n",
      " [ 3.  5.  2. nan nan  1.  3.  5.  5.  5.]]\n"
     ]
    }
   ],
   "source": [
    "responses = [0, 1,2,3,4,5]\n",
    "p = np.array([2,1,1,1,1,1])\n",
    "m = 10\n",
    "n = 10\n",
    "\n",
    "\n",
    "R = np.random.choice(responses, size=m*n, p=p / p.sum()).reshape((m, n))\n",
    "\n",
    "R = R.astype('float')\n",
    "R[R == 0] = np.NaN\n",
    "\n",
    "print('실제 행렬:\\n', R)"
   ]
  },
  {
   "cell_type": "code",
   "execution_count": 78,
   "metadata": {},
   "outputs": [],
   "source": [
    "from sklearn.metrics import mean_squared_error\n",
    " \n",
    "def get_rmse(R, P, Q, non_zeros):\n",
    "    error = 0\n",
    "    # 두개의 분해된 행렬 P와 Q.T의 내적 곱으로 예측 R 행렬 생성\n",
    "    full_pred_matrix = np.dot(P, Q.T)\n",
    "     \n",
    "    # 실제 R 행렬에서 널이 아닌 값의 위치 인덱스 추출하여 실제 R 행렬과 예측 행렬의 RMSE 추출\n",
    "    x_non_zero_ind = [non_zero[0] for non_zero in non_zeros]\n",
    "    y_non_zero_ind = [non_zero[1] for non_zero in non_zeros]\n",
    "    R_non_zeros = R[x_non_zero_ind, y_non_zero_ind]\n",
    "     \n",
    "    full_pred_matrix_non_zeros = full_pred_matrix[x_non_zero_ind, y_non_zero_ind]\n",
    "       \n",
    "    mse = mean_squared_error(R_non_zeros, full_pred_matrix_non_zeros)\n",
    "    rmse = np.sqrt(mse)\n",
    "     \n",
    "    return rmse\n",
    " \n",
    " \n",
    "def matrix_factorization(R, K, steps=200, learning_rate=0.01, r_lambda = 0.01):\n",
    "    num_users, num_items = R.shape\n",
    "    # P와 Q 매트릭스의 크기를 지정하고 정규분포를 가진 랜덤한 값으로 입력합니다.\n",
    "    np.random.seed(1)\n",
    "    P = np.random.normal(scale=1./K, size=(num_users, K))\n",
    "    Q = np.random.normal(scale=1./K, size=(num_items, K))\n",
    " \n",
    "    break_count = 0\n",
    "    # R > 0 인 행 위치, 열 위치, 값을 non_zeros 리스트 객체에 저장.\n",
    "    non_zeros = [ (i, j, R[i,j]) for i in range(num_users) for j in range(num_items) if R[i,j] > 0 ]\n",
    "     \n",
    "    # SGD기법으로 P와 Q 매트릭스를 계속 업데이트.\n",
    "    for step in range(steps):\n",
    "        for i, j, r in non_zeros:\n",
    "            # 실제 값과 예측 값의 차이인 오류 값 구함\n",
    "            eij = r - np.dot(P[i, :], Q[j, :].T)\n",
    "            # Regularization을 반영한 SGD 업데이트 공식 적용\n",
    "            P[i,:] = P[i,:] + learning_rate*(eij * Q[j, :] - r_lambda*P[i,:])\n",
    "            Q[j,:] = Q[j,:] + learning_rate*(eij * P[i, :] - r_lambda*Q[j,:])\n",
    "         \n",
    "        rmse = get_rmse(R, P, Q, non_zeros)\n",
    "        if step % 10 == 0:\n",
    "            print(\"### iteration step : \", step,\" rmse : \", np.round(rmse, 7))\n",
    "             \n",
    "    return P, Q"
   ]
  },
  {
   "cell_type": "code",
   "execution_count": 79,
   "metadata": {},
   "outputs": [
    {
     "name": "stdout",
     "output_type": "stream",
     "text": [
      "### iteration step :  0  rmse :  1.8005519\n",
      "### iteration step :  10  rmse :  0.0616525\n",
      "### iteration step :  20  rmse :  0.025872\n"
     ]
    }
   ],
   "source": [
    "R = pd.DataFrame(R)\n",
    "s_merge_ratings = pd.DataFrame(s_merge_ratings)\n",
    "#ratings_matrix = R.pivot_table()\n",
    "\n",
    "P, Q = matrix_factorization(s_merge_ratings.values, K=30, steps=21, learning_rate=0.01, r_lambda = 0.01)"
   ]
  },
  {
   "cell_type": "code",
   "execution_count": 80,
   "metadata": {},
   "outputs": [
    {
     "name": "stdout",
     "output_type": "stream",
     "text": [
      "실제 행렬:\n",
      "                  values                                                   \\\n",
      "pattern_id       10     16     17     20     29     38     40     45       \n",
      "user_id                                                                    \n",
      "A-Bear              NaN    NaN    NaN    NaN    NaN    NaN    NaN    NaN   \n",
      "A-KN                NaN    NaN    NaN    NaN    NaN    NaN    NaN    NaN   \n",
      "A-Ko-Cloudartowl    NaN    NaN    NaN    NaN    NaN    NaN    NaN    NaN   \n",
      "A-L                 NaN    NaN    NaN    NaN    NaN    NaN    NaN    NaN   \n",
      "A2Knitzi            NaN    NaN    NaN    NaN    NaN    NaN    NaN    NaN   \n",
      "...                 ...    ...    ...    ...    ...    ...    ...    ...   \n",
      "cutiepie3000        NaN    NaN    NaN    NaN    NaN    NaN    NaN    NaN   \n",
      "cutiepiemommy       NaN    NaN    NaN    NaN    NaN    NaN    NaN    NaN   \n",
      "cutikula            NaN    NaN    NaN    NaN    NaN    NaN    NaN    NaN   \n",
      "cutloose            NaN    NaN    NaN    NaN    NaN    NaN    NaN    NaN   \n",
      "cvjunebug           NaN    NaN    NaN    NaN    NaN    NaN    NaN    NaN   \n",
      "\n",
      "                                ...                                            \\\n",
      "pattern_id       54     58      ... 754478 757448 758675 760169 760196 761594   \n",
      "user_id                         ...                                             \n",
      "A-Bear              NaN    3.0  ...    NaN    NaN    NaN    NaN    NaN    NaN   \n",
      "A-KN                NaN    NaN  ...    NaN    NaN    NaN    NaN    NaN    NaN   \n",
      "A-Ko-Cloudartowl    NaN    NaN  ...    NaN    NaN    NaN    NaN    NaN    NaN   \n",
      "A-L                 NaN    NaN  ...    NaN    NaN    NaN    NaN    NaN    NaN   \n",
      "A2Knitzi            NaN    NaN  ...    NaN    NaN    NaN    NaN    NaN    NaN   \n",
      "...                 ...    ...  ...    ...    ...    ...    ...    ...    ...   \n",
      "cutiepie3000        NaN    NaN  ...    NaN    NaN    NaN    NaN    NaN    NaN   \n",
      "cutiepiemommy       NaN    NaN  ...    NaN    NaN    3.0    NaN    NaN    NaN   \n",
      "cutikula            NaN    NaN  ...    NaN    NaN    NaN    NaN    NaN    NaN   \n",
      "cutloose            NaN    NaN  ...    NaN    NaN    NaN    NaN    NaN    NaN   \n",
      "cvjunebug           NaN    NaN  ...    NaN    NaN    NaN    NaN    NaN    NaN   \n",
      "\n",
      "                                              \n",
      "pattern_id       763023 763263 763264 766149  \n",
      "user_id                                       \n",
      "A-Bear              NaN    NaN    NaN    NaN  \n",
      "A-KN                NaN    NaN    NaN    NaN  \n",
      "A-Ko-Cloudartowl    NaN    NaN    NaN    NaN  \n",
      "A-L                 NaN    NaN    NaN    NaN  \n",
      "A2Knitzi            NaN    NaN    NaN    NaN  \n",
      "...                 ...    ...    ...    ...  \n",
      "cutiepie3000        NaN    NaN    NaN    NaN  \n",
      "cutiepiemommy       NaN    NaN    NaN    NaN  \n",
      "cutikula            NaN    NaN    NaN    NaN  \n",
      "cutloose            NaN    NaN    NaN    NaN  \n",
      "cvjunebug           NaN    NaN    NaN    NaN  \n",
      "\n",
      "[5630 rows x 3901 columns]\n",
      "\n",
      "예측 행렬:\n",
      " [[2.86 2.91 2.9  ... 2.77 2.76 2.78]\n",
      " [2.99 3.01 3.   ... 2.95 2.95 2.96]\n",
      " [3.   3.01 3.   ... 2.97 2.97 2.98]\n",
      " ...\n",
      " [3.   3.   3.   ... 2.98 2.97 2.98]\n",
      " [2.91 2.95 2.93 ... 2.81 2.82 2.82]\n",
      " [2.93 2.96 2.95 ... 2.89 2.89 2.9 ]]\n"
     ]
    }
   ],
   "source": [
    "pred_matrix = np.dot(P, Q.T) # P @ Q.T 도 가능\n",
    "print('실제 행렬:\\n', s_merge_ratings)\n",
    "print('\\n예측 행렬:\\n', np.round(pred_matrix, 2))"
   ]
  },
  {
   "cell_type": "code",
   "execution_count": 81,
   "metadata": {},
   "outputs": [
    {
     "data": {
      "text/html": [
       "<div>\n",
       "<style scoped>\n",
       "    .dataframe tbody tr th:only-of-type {\n",
       "        vertical-align: middle;\n",
       "    }\n",
       "\n",
       "    .dataframe tbody tr th {\n",
       "        vertical-align: top;\n",
       "    }\n",
       "\n",
       "    .dataframe thead tr th {\n",
       "        text-align: left;\n",
       "    }\n",
       "\n",
       "    .dataframe thead tr:last-of-type th {\n",
       "        text-align: right;\n",
       "    }\n",
       "</style>\n",
       "<table border=\"1\" class=\"dataframe\">\n",
       "  <thead>\n",
       "    <tr>\n",
       "      <th></th>\n",
       "      <th colspan=\"21\" halign=\"left\">values</th>\n",
       "    </tr>\n",
       "    <tr>\n",
       "      <th>pattern_id</th>\n",
       "      <th>10</th>\n",
       "      <th>16</th>\n",
       "      <th>17</th>\n",
       "      <th>20</th>\n",
       "      <th>29</th>\n",
       "      <th>38</th>\n",
       "      <th>40</th>\n",
       "      <th>45</th>\n",
       "      <th>54</th>\n",
       "      <th>58</th>\n",
       "      <th>...</th>\n",
       "      <th>754478</th>\n",
       "      <th>757448</th>\n",
       "      <th>758675</th>\n",
       "      <th>760169</th>\n",
       "      <th>760196</th>\n",
       "      <th>761594</th>\n",
       "      <th>763023</th>\n",
       "      <th>763263</th>\n",
       "      <th>763264</th>\n",
       "      <th>766149</th>\n",
       "    </tr>\n",
       "    <tr>\n",
       "      <th>user_id</th>\n",
       "      <th></th>\n",
       "      <th></th>\n",
       "      <th></th>\n",
       "      <th></th>\n",
       "      <th></th>\n",
       "      <th></th>\n",
       "      <th></th>\n",
       "      <th></th>\n",
       "      <th></th>\n",
       "      <th></th>\n",
       "      <th></th>\n",
       "      <th></th>\n",
       "      <th></th>\n",
       "      <th></th>\n",
       "      <th></th>\n",
       "      <th></th>\n",
       "      <th></th>\n",
       "      <th></th>\n",
       "      <th></th>\n",
       "      <th></th>\n",
       "      <th></th>\n",
       "    </tr>\n",
       "  </thead>\n",
       "  <tbody>\n",
       "    <tr>\n",
       "      <th>A-Bear</th>\n",
       "      <td>2.855393</td>\n",
       "      <td>2.910974</td>\n",
       "      <td>2.904905</td>\n",
       "      <td>2.900425</td>\n",
       "      <td>2.912663</td>\n",
       "      <td>2.857247</td>\n",
       "      <td>2.894439</td>\n",
       "      <td>2.893554</td>\n",
       "      <td>2.876074</td>\n",
       "      <td>2.904782</td>\n",
       "      <td>...</td>\n",
       "      <td>2.764324</td>\n",
       "      <td>2.757973</td>\n",
       "      <td>2.824681</td>\n",
       "      <td>2.790770</td>\n",
       "      <td>2.761123</td>\n",
       "      <td>2.752993</td>\n",
       "      <td>2.781320</td>\n",
       "      <td>2.766355</td>\n",
       "      <td>2.762268</td>\n",
       "      <td>2.778267</td>\n",
       "    </tr>\n",
       "    <tr>\n",
       "      <th>A-KN</th>\n",
       "      <td>2.994283</td>\n",
       "      <td>3.005699</td>\n",
       "      <td>2.996075</td>\n",
       "      <td>2.993595</td>\n",
       "      <td>2.997807</td>\n",
       "      <td>2.979695</td>\n",
       "      <td>3.003232</td>\n",
       "      <td>2.991970</td>\n",
       "      <td>3.001153</td>\n",
       "      <td>3.001444</td>\n",
       "      <td>...</td>\n",
       "      <td>2.951692</td>\n",
       "      <td>2.950399</td>\n",
       "      <td>2.974199</td>\n",
       "      <td>2.963227</td>\n",
       "      <td>2.958830</td>\n",
       "      <td>2.945309</td>\n",
       "      <td>2.963013</td>\n",
       "      <td>2.949139</td>\n",
       "      <td>2.954554</td>\n",
       "      <td>2.964621</td>\n",
       "    </tr>\n",
       "    <tr>\n",
       "      <th>A-Ko-Cloudartowl</th>\n",
       "      <td>3.000956</td>\n",
       "      <td>3.008423</td>\n",
       "      <td>3.001669</td>\n",
       "      <td>2.996392</td>\n",
       "      <td>2.998324</td>\n",
       "      <td>2.994001</td>\n",
       "      <td>3.004374</td>\n",
       "      <td>3.000247</td>\n",
       "      <td>3.006359</td>\n",
       "      <td>3.005139</td>\n",
       "      <td>...</td>\n",
       "      <td>2.971535</td>\n",
       "      <td>2.969333</td>\n",
       "      <td>2.987848</td>\n",
       "      <td>2.980916</td>\n",
       "      <td>2.973740</td>\n",
       "      <td>2.963277</td>\n",
       "      <td>2.978920</td>\n",
       "      <td>2.966126</td>\n",
       "      <td>2.973218</td>\n",
       "      <td>2.975474</td>\n",
       "    </tr>\n",
       "  </tbody>\n",
       "</table>\n",
       "<p>3 rows × 3901 columns</p>\n",
       "</div>"
      ],
      "text/plain": [
       "                    values                                                    \\\n",
       "pattern_id          10        16        17        20        29        38       \n",
       "user_id                                                                        \n",
       "A-Bear            2.855393  2.910974  2.904905  2.900425  2.912663  2.857247   \n",
       "A-KN              2.994283  3.005699  2.996075  2.993595  2.997807  2.979695   \n",
       "A-Ko-Cloudartowl  3.000956  3.008423  3.001669  2.996392  2.998324  2.994001   \n",
       "\n",
       "                                                          ...            \\\n",
       "pattern_id          40        45        54        58      ...    754478   \n",
       "user_id                                                   ...             \n",
       "A-Bear            2.894439  2.893554  2.876074  2.904782  ...  2.764324   \n",
       "A-KN              3.003232  2.991970  3.001153  3.001444  ...  2.951692   \n",
       "A-Ko-Cloudartowl  3.004374  3.000247  3.006359  3.005139  ...  2.971535   \n",
       "\n",
       "                                                                              \\\n",
       "pattern_id          757448    758675    760169    760196    761594    763023   \n",
       "user_id                                                                        \n",
       "A-Bear            2.757973  2.824681  2.790770  2.761123  2.752993  2.781320   \n",
       "A-KN              2.950399  2.974199  2.963227  2.958830  2.945309  2.963013   \n",
       "A-Ko-Cloudartowl  2.969333  2.987848  2.980916  2.973740  2.963277  2.978920   \n",
       "\n",
       "                                                \n",
       "pattern_id          763263    763264    766149  \n",
       "user_id                                         \n",
       "A-Bear            2.766355  2.762268  2.778267  \n",
       "A-KN              2.949139  2.954554  2.964621  \n",
       "A-Ko-Cloudartowl  2.966126  2.973218  2.975474  \n",
       "\n",
       "[3 rows x 3901 columns]"
      ]
     },
     "execution_count": 81,
     "metadata": {},
     "output_type": "execute_result"
    }
   ],
   "source": [
    "ratings_pred_matrix = pd.DataFrame(data=pred_matrix, index= s_merge_ratings.index,\n",
    "                                   columns = s_merge_ratings.columns)\n",
    "ratings_pred_matrix.head(3)"
   ]
  },
  {
   "cell_type": "code",
   "execution_count": null,
   "metadata": {},
   "outputs": [],
   "source": [
    "ratings_pred_matrix = np.round(ratings_pred_matrix, 2)\n",
    "ratings_pred_matrix.tail(3)"
   ]
  },
  {
   "cell_type": "code",
   "execution_count": 21,
   "metadata": {},
   "outputs": [
    {
     "ename": "NameError",
     "evalue": "name 'ratings_pred_matrix' is not defined",
     "output_type": "error",
     "traceback": [
      "\u001b[0;31m---------------------------------------------------------------------------\u001b[0m",
      "\u001b[0;31mNameError\u001b[0m                                 Traceback (most recent call last)",
      "\u001b[0;32m<ipython-input-21-f1d932ebdbf7>\u001b[0m in \u001b[0;36m<module>\u001b[0;34m\u001b[0m\n\u001b[0;32m----> 1\u001b[0;31m \u001b[0mr\u001b[0m \u001b[0;34m=\u001b[0m \u001b[0mratings_pred_matrix\u001b[0m\u001b[0;34m.\u001b[0m\u001b[0mtail\u001b[0m\u001b[0;34m(\u001b[0m\u001b[0;36m13\u001b[0m\u001b[0;34m)\u001b[0m\u001b[0;34m\u001b[0m\u001b[0;34m\u001b[0m\u001b[0m\n\u001b[0m",
      "\u001b[0;31mNameError\u001b[0m: name 'ratings_pred_matrix' is not defined"
     ]
    }
   ],
   "source": [
    "r = ratings_pred_matrix.tail(13)"
   ]
  },
  {
   "cell_type": "code",
   "execution_count": 294,
   "metadata": {},
   "outputs": [],
   "source": [
    "r = pd.DataFrame(r)\n",
    "r.to_csv(\"./sgd.csv\")"
   ]
  },
  {
   "cell_type": "code",
   "execution_count": null,
   "metadata": {},
   "outputs": [],
   "source": []
  }
 ],
 "metadata": {
  "kernelspec": {
   "display_name": "Python 3",
   "language": "python",
   "name": "python3"
  },
  "language_info": {
   "codemirror_mode": {
    "name": "ipython",
    "version": 3
   },
   "file_extension": ".py",
   "mimetype": "text/x-python",
   "name": "python",
   "nbconvert_exporter": "python",
   "pygments_lexer": "ipython3",
   "version": "3.7.6"
  }
 },
 "nbformat": 4,
 "nbformat_minor": 4
}
